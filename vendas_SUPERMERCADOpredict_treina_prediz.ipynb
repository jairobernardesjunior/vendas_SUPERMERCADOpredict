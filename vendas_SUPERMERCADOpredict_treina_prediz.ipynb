{
 "cells": [
  {
   "cell_type": "markdown",
   "metadata": {},
   "source": [
    "## Separa os dados em treino e teste, treina os modelos, faz os testes, verifica os resultados e escolhe o modelo que ficou com os resultados de suas métricas mais adequados"
   ]
  },
  {
   "cell_type": "code",
   "execution_count": 177,
   "metadata": {},
   "outputs": [],
   "source": [
    "# importa bibliotecas\n",
    "import pandas as pd\n",
    "import matplotlib.pyplot as plt\n",
    "import seaborn as sns\n",
    "from sklearn.linear_model import LinearRegression\n",
    "from sklearn.model_selection import train_test_split\n",
    "from sklearn.metrics import mean_squared_error\n",
    "from sklearn.metrics import mean_absolute_error\n",
    "from sklearn import tree\n",
    "from sklearn.metrics import r2_score\n",
    "from sklearn import svm\n",
    "\n",
    "pd.set_option('display.max_rows', None)\n",
    "pd.set_option('display.max_columns', None)\n",
    "import warnings\n",
    "warnings.simplefilter('ignore')"
   ]
  },
  {
   "cell_type": "code",
   "execution_count": 178,
   "metadata": {},
   "outputs": [],
   "source": [
    "# le os dados do dataset recebendo em formato de dataframe\n",
    "dfx = pd.read_csv('arquivos_tratados/df_supermarket_sales.csv')"
   ]
  },
  {
   "cell_type": "code",
   "execution_count": 179,
   "metadata": {},
   "outputs": [
    {
     "data": {
      "text/html": [
       "<div>\n",
       "<style scoped>\n",
       "    .dataframe tbody tr th:only-of-type {\n",
       "        vertical-align: middle;\n",
       "    }\n",
       "\n",
       "    .dataframe tbody tr th {\n",
       "        vertical-align: top;\n",
       "    }\n",
       "\n",
       "    .dataframe thead th {\n",
       "        text-align: right;\n",
       "    }\n",
       "</style>\n",
       "<table border=\"1\" class=\"dataframe\">\n",
       "  <thead>\n",
       "    <tr style=\"text-align: right;\">\n",
       "      <th></th>\n",
       "      <th>id_fatura</th>\n",
       "      <th>filial</th>\n",
       "      <th>cidade</th>\n",
       "      <th>tipo_cliente</th>\n",
       "      <th>genero</th>\n",
       "      <th>linha_produto</th>\n",
       "      <th>preco_unitario</th>\n",
       "      <th>qtde</th>\n",
       "      <th>imposto</th>\n",
       "      <th>total_preco</th>\n",
       "      <th>moeda</th>\n",
       "      <th>custo</th>\n",
       "      <th>margem_bruta</th>\n",
       "      <th>receita_bruta</th>\n",
       "      <th>experiencia_cliente</th>\n",
       "      <th>data_hora</th>\n",
       "      <th>dia_semana</th>\n",
       "      <th>feriado</th>\n",
       "      <th>hora</th>\n",
       "      <th>filial_nro</th>\n",
       "      <th>tipo_cliente_nro</th>\n",
       "      <th>genero_nro</th>\n",
       "      <th>linha_produto_nro</th>\n",
       "      <th>moeda_nro</th>\n",
       "    </tr>\n",
       "  </thead>\n",
       "  <tbody>\n",
       "    <tr>\n",
       "      <th>0</th>\n",
       "      <td>765-26-6951</td>\n",
       "      <td>A</td>\n",
       "      <td>Yangon</td>\n",
       "      <td>Normal</td>\n",
       "      <td>Male</td>\n",
       "      <td>Sports and travel</td>\n",
       "      <td>72.61</td>\n",
       "      <td>6</td>\n",
       "      <td>21.783</td>\n",
       "      <td>457.443</td>\n",
       "      <td>Credit card</td>\n",
       "      <td>435.66</td>\n",
       "      <td>4.761905</td>\n",
       "      <td>21.783</td>\n",
       "      <td>6.9</td>\n",
       "      <td>2019-01-01 10:39:00</td>\n",
       "      <td>1</td>\n",
       "      <td>0</td>\n",
       "      <td>10</td>\n",
       "      <td>0</td>\n",
       "      <td>1</td>\n",
       "      <td>1</td>\n",
       "      <td>5</td>\n",
       "      <td>1</td>\n",
       "    </tr>\n",
       "    <tr>\n",
       "      <th>1</th>\n",
       "      <td>746-04-1077</td>\n",
       "      <td>B</td>\n",
       "      <td>Mandalay</td>\n",
       "      <td>Member</td>\n",
       "      <td>Female</td>\n",
       "      <td>Food and beverages</td>\n",
       "      <td>84.63</td>\n",
       "      <td>10</td>\n",
       "      <td>42.315</td>\n",
       "      <td>888.615</td>\n",
       "      <td>Credit card</td>\n",
       "      <td>846.30</td>\n",
       "      <td>4.761905</td>\n",
       "      <td>42.315</td>\n",
       "      <td>9.0</td>\n",
       "      <td>2019-01-01 11:36:00</td>\n",
       "      <td>1</td>\n",
       "      <td>0</td>\n",
       "      <td>11</td>\n",
       "      <td>1</td>\n",
       "      <td>0</td>\n",
       "      <td>0</td>\n",
       "      <td>2</td>\n",
       "      <td>1</td>\n",
       "    </tr>\n",
       "    <tr>\n",
       "      <th>2</th>\n",
       "      <td>271-77-8740</td>\n",
       "      <td>C</td>\n",
       "      <td>Naypyitaw</td>\n",
       "      <td>Member</td>\n",
       "      <td>Female</td>\n",
       "      <td>Sports and travel</td>\n",
       "      <td>29.22</td>\n",
       "      <td>6</td>\n",
       "      <td>8.766</td>\n",
       "      <td>184.086</td>\n",
       "      <td>Ewallet</td>\n",
       "      <td>175.32</td>\n",
       "      <td>4.761905</td>\n",
       "      <td>8.766</td>\n",
       "      <td>5.0</td>\n",
       "      <td>2019-01-01 11:40:00</td>\n",
       "      <td>1</td>\n",
       "      <td>0</td>\n",
       "      <td>11</td>\n",
       "      <td>2</td>\n",
       "      <td>0</td>\n",
       "      <td>0</td>\n",
       "      <td>5</td>\n",
       "      <td>2</td>\n",
       "    </tr>\n",
       "  </tbody>\n",
       "</table>\n",
       "</div>"
      ],
      "text/plain": [
       "     id_fatura filial     cidade tipo_cliente  genero       linha_produto  \\\n",
       "0  765-26-6951      A     Yangon       Normal    Male   Sports and travel   \n",
       "1  746-04-1077      B   Mandalay       Member  Female  Food and beverages   \n",
       "2  271-77-8740      C  Naypyitaw       Member  Female   Sports and travel   \n",
       "\n",
       "   preco_unitario  qtde  imposto  total_preco        moeda   custo  \\\n",
       "0           72.61     6   21.783      457.443  Credit card  435.66   \n",
       "1           84.63    10   42.315      888.615  Credit card  846.30   \n",
       "2           29.22     6    8.766      184.086      Ewallet  175.32   \n",
       "\n",
       "   margem_bruta  receita_bruta  experiencia_cliente            data_hora  \\\n",
       "0      4.761905         21.783                  6.9  2019-01-01 10:39:00   \n",
       "1      4.761905         42.315                  9.0  2019-01-01 11:36:00   \n",
       "2      4.761905          8.766                  5.0  2019-01-01 11:40:00   \n",
       "\n",
       "   dia_semana  feriado  hora  filial_nro  tipo_cliente_nro  genero_nro  \\\n",
       "0           1        0    10           0                 1           1   \n",
       "1           1        0    11           1                 0           0   \n",
       "2           1        0    11           2                 0           0   \n",
       "\n",
       "   linha_produto_nro  moeda_nro  \n",
       "0                  5          1  \n",
       "1                  2          1  \n",
       "2                  5          2  "
      ]
     },
     "execution_count": 179,
     "metadata": {},
     "output_type": "execute_result"
    }
   ],
   "source": [
    "# verifica os dados\n",
    "dfx.head(3)"
   ]
  },
  {
   "cell_type": "code",
   "execution_count": 180,
   "metadata": {},
   "outputs": [],
   "source": [
    "# separa as variáveis: dependente_y x independentes_x\n",
    "X = dfx[['preco_unitario', 'custo', 'imposto','dia_semana', 'feriado', 'tipo_cliente_nro', \\\n",
    "         'genero_nro', 'linha_produto_nro', 'moeda_nro']]\n",
    "y = dfx[['qtde']]"
   ]
  },
  {
   "cell_type": "code",
   "execution_count": 181,
   "metadata": {},
   "outputs": [],
   "source": [
    "# separa dados de treino e de teste\n",
    "X_train, X_test, y_train, y_test = train_test_split(X, y, test_size=0.25, train_size=0.70, random_state=42)"
   ]
  },
  {
   "cell_type": "markdown",
   "metadata": {},
   "source": [
    "## Regressão Linear Múltipla"
   ]
  },
  {
   "cell_type": "code",
   "execution_count": 182,
   "metadata": {},
   "outputs": [],
   "source": [
    "# treina e prediz quantidade de venda\n",
    "regRLM = LinearRegression().fit(X_train, y_train)\n",
    "y_pred = regRLM.predict(X_test)"
   ]
  },
  {
   "cell_type": "code",
   "execution_count": 183,
   "metadata": {},
   "outputs": [
    {
     "name": "stdout",
     "output_type": "stream",
     "text": [
      "coeficiente de determinação (score) 0.819868454108158\n",
      "coeficiente de determinação r2_score 0.8033269121521436\n",
      "erro médio absoluto 0.9211225794092502\n",
      "erro quadrático médio 1.6071306578881377\n"
     ]
    }
   ],
   "source": [
    "# Avalia o modelo\n",
    "print('coeficiente de determinação (score)', rlm.score(X_train, y_train))\n",
    "print('coeficiente de determinação r2_score', r2_score(y_test, y_pred))\n",
    "print('erro médio absoluto', mean_absolute_error(y_test, y_pred))\n",
    "print('erro quadrático médio', mean_squared_error(y_test,y_pred))"
   ]
  },
  {
   "cell_type": "markdown",
   "metadata": {},
   "source": [
    "## Árvore de Regressão"
   ]
  },
  {
   "cell_type": "code",
   "execution_count": 184,
   "metadata": {},
   "outputs": [],
   "source": [
    "# Cria o regressor\n",
    "regTree = tree.DecisionTreeRegressor(random_state=2)"
   ]
  },
  {
   "cell_type": "code",
   "execution_count": 185,
   "metadata": {},
   "outputs": [],
   "source": [
    "# Faz o fit, treina o modelo\n",
    "Dtree_model = regTree.fit(X_train, y_train)"
   ]
  },
  {
   "cell_type": "code",
   "execution_count": 186,
   "metadata": {},
   "outputs": [
    {
     "name": "stdout",
     "output_type": "stream",
     "text": [
      "coeficiente de determinação (score) 0.9691614257407132\n",
      "coeficiente de determinação r2_score 0.9691614257407132\n",
      "erro médio absoluto 0.228\n",
      "erro médio quadrático 0.252\n"
     ]
    }
   ],
   "source": [
    "# Avalia o modelo\n",
    "y_predTree = Dtree_model.predict(X_test)\n",
    "\n",
    "print('coeficiente de determinação (score)', Dtree_model.score(X_test, y_test))\n",
    "print('coeficiente de determinação r2_score', r2_score(y_test, y_predTree))\n",
    "print('erro médio absoluto', mean_absolute_error(y_test, y_predTree))\n",
    "print('erro médio quadrático', mean_squared_error(y_test,y_predTree)) "
   ]
  },
  {
   "cell_type": "markdown",
   "metadata": {},
   "source": [
    "## SVR"
   ]
  },
  {
   "cell_type": "code",
   "execution_count": 187,
   "metadata": {},
   "outputs": [],
   "source": [
    "# Cria o regressor\n",
    "regSVR = svm.SVR()"
   ]
  },
  {
   "cell_type": "code",
   "execution_count": 188,
   "metadata": {},
   "outputs": [],
   "source": [
    "# Faz o fit, treina o modelo\n",
    "SVR_model = regSVR.fit(X_train, y_train)"
   ]
  },
  {
   "cell_type": "code",
   "execution_count": 189,
   "metadata": {},
   "outputs": [
    {
     "name": "stdout",
     "output_type": "stream",
     "text": [
      "coeficiente de determinação (score) 0.8434435184006899\n",
      "coeficiente de determinação r2_score 0.8434435184006899\n",
      "erro médio absoluto 0.756273145010852\n",
      "erro médio quadrático 1.2793144401332168\n"
     ]
    }
   ],
   "source": [
    "# Avalia o modelo\n",
    "y_predSVR = SVR_model.predict(X_test)\n",
    "\n",
    "print('coeficiente de determinação (score)', regSVR.score(X_test, y_test))\n",
    "print('coeficiente de determinação r2_score', r2_score(y_test, y_predSVR, multioutput='variance_weighted'))\n",
    "print('erro médio absoluto', mean_absolute_error(y_test, y_predSVR))\n",
    "print('erro médio quadrático', mean_squared_error(y_test,y_predSVR))"
   ]
  },
  {
   "cell_type": "markdown",
   "metadata": {},
   "source": [
    "## Visualiza as Informações"
   ]
  },
  {
   "cell_type": "code",
   "execution_count": 199,
   "metadata": {},
   "outputs": [
    {
     "data": {
      "image/png": "[encoded data removed]",
      "text/plain": [
       "<Figure size 1200x400 with 3 Axes>"
      ]
     },
     "metadata": {},
     "output_type": "display_data"
    }
   ],
   "source": [
    "# Plota gráficos de regressão linear dos testes\n",
    "import numpy as np\n",
    "fig,ax = plt.subplots(ncols=3,figsize=(12,4))\n",
    "\n",
    "x = np.arange(0,12)\n",
    "y = x\n",
    "ax[0].scatter(y_test,y_pred)\n",
    "ax[0].plot(x,y,'r')\n",
    "ax[0].set_title('Regressão Linear')\n",
    "\n",
    "ax[1].scatter(y_test,y_predSVR)\n",
    "ax[1].plot(x,y,'r')\n",
    "ax[1].set_title('SVR')\n",
    "\n",
    "ax[2].scatter(y_test,y_predTree)\n",
    "ax[2].plot(x,y,'r')\n",
    "ax[2].set_title('Árvore de Decisão')\n",
    "\n",
    "plt.show()"
   ]
  },
  {
   "cell_type": "markdown",
   "metadata": {},
   "source": []
  }
 ],
 "metadata": {
  "kernelspec": {
   "display_name": "Python 3",
   "language": "python",
   "name": "python3"
  },
  "language_info": {
   "codemirror_mode": {
    "name": "ipython",
    "version": 3
   },
   "file_extension": ".py",
   "mimetype": "text/x-python",
   "name": "python",
   "nbconvert_exporter": "python",
   "pygments_lexer": "ipython3",
   "version": "3.11.5"
  },
  "orig_nbformat": 4
 },
 "nbformat": 4,
 "nbformat_minor": 2
}
