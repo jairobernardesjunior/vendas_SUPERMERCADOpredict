{
 "cells": [
  {
   "cell_type": "markdown",
   "metadata": {},
   "source": [
    "## Separa os dados em treino e teste, treina os modelos, faz os testes, verifica os resultados e escolhe o modelo que ficou com os resultados de suas métricas mais adequados"
   ]
  },
  {
   "cell_type": "code",
   "execution_count": 2,
   "metadata": {},
   "outputs": [],
   "source": [
    "# importa bibliotecas\n",
    "import pandas as pd\n",
    "import matplotlib.pyplot as plt\n",
    "from sklearn.linear_model import LinearRegression\n",
    "from sklearn.model_selection import train_test_split\n",
    "from sklearn.metrics import mean_squared_error\n",
    "from sklearn.metrics import mean_absolute_error\n",
    "from sklearn import tree\n",
    "from sklearn.metrics import r2_score\n",
    "from sklearn import svm\n",
    "import joblib\n",
    "from fc import fc_download_s3 as ds3\n",
    "from fc import fc_upload_s3 as ups3\n",
    "import os\n",
    "\n",
    "pd.set_option('display.max_rows', None)\n",
    "pd.set_option('display.max_columns', None)\n",
    "import warnings\n",
    "warnings.simplefilter('ignore')"
   ]
  },
  {
   "cell_type": "markdown",
   "metadata": {},
   "source": [
    "## Le arquivos do repositório na nuvem"
   ]
  },
  {
   "cell_type": "code",
   "execution_count": 3,
   "metadata": {},
   "outputs": [],
   "source": [
    "# ******************** INICIALIZA VARIÁVEIS DO REPOSITÓRIO DE DADOS\n",
    "dir_dados = 'arquivos'\n",
    "dir_dados_tratados = 'arquivos_tratados'\n",
    "dir_modelos = 'modelos'\n",
    "dir_par = 'parametros'\n",
    "dir_S3 = 'vendas-supermarket-s3'\n",
    "dir_S3_tratados = 'vendas-supermarket-s3-tratados'\n",
    "dir_S3_modelos = 'vendas-supermarket-s3-modelos'\n",
    "arq_dados = 'supermarket_sales.csv'\n",
    "arq_dados_tratados = 'df_supermarket_sales.csv' \n",
    "arq_keys = 'parametros/chaves_acesso.txt'\n",
    "barra = '/'\n",
    "\n",
    "if os.path.exists(dir_dados) == False:\n",
    "    try:\n",
    "        os.mkdir(dir_dados)\n",
    "    finally:\n",
    "        fim = 'ok'"
   ]
  },
  {
   "cell_type": "code",
   "execution_count": 4,
   "metadata": {},
   "outputs": [],
   "source": [
    "# ******************** LE O ARQUIVO DE CHAVES\n",
    "arq_par = open(arq_keys,'r')\n",
    "\n",
    "access_key = arq_par.readline()\n",
    "access_key = access_key[0:len(access_key) -1]\n",
    "\n",
    "secret_key = arq_par.readline()\n",
    "secret_key = secret_key[0:len(secret_key) -1]\n",
    "\n",
    "regiao = arq_par.readline()\n",
    "arq_par.close()  "
   ]
  },
  {
   "cell_type": "code",
   "execution_count": 5,
   "metadata": {},
   "outputs": [],
   "source": [
    "\n",
    "# ******************** CHAMA A FUNÇÃO DE DOWNLOAD DO BUCKET S3 para baixar os arquivos tratados\n",
    "retorno = 'ok'\n",
    "''' **************** comentado para que o kernel não trave se não existir um bucket s3 criado\n",
    "retorno = ds3.download_s3(\n",
    "            dir_S3_tratados, \n",
    "            arq_dados_tratados, \n",
    "            dir_dados_tratados + barra + arq_dados_tratados, \n",
    "            access_key, secret_key, regiao)\n",
    "'''\n",
    "\n",
    "if retorno != 'ok':\n",
    "    print(retorno)\n",
    "    print('bucket s3 => ' + dir_S3_tratados + ' arquivo => ' + arq_dados_tratados + \n",
    "            ' ***** não foi baixado')\n",
    "    exit()\n"
   ]
  },
  {
   "cell_type": "code",
   "execution_count": 6,
   "metadata": {},
   "outputs": [],
   "source": [
    "# le os dados do dataset recebendo em formato de dataframe\n",
    "dfx = pd.read_csv('arquivos_tratados/df_supermarket_sales.csv')"
   ]
  },
  {
   "cell_type": "code",
   "execution_count": 7,
   "metadata": {},
   "outputs": [
    {
     "data": {
      "text/plain": [
       "(1000, 24)"
      ]
     },
     "execution_count": 7,
     "metadata": {},
     "output_type": "execute_result"
    }
   ],
   "source": [
    "# verificando se todos os dados foram carregados\n",
    "# 1000 linhas e 24 colunas, ok!\n",
    "dfx.shape"
   ]
  },
  {
   "cell_type": "code",
   "execution_count": 8,
   "metadata": {},
   "outputs": [
    {
     "data": {
      "text/html": [
       "<div>\n",
       "<style scoped>\n",
       "    .dataframe tbody tr th:only-of-type {\n",
       "        vertical-align: middle;\n",
       "    }\n",
       "\n",
       "    .dataframe tbody tr th {\n",
       "        vertical-align: top;\n",
       "    }\n",
       "\n",
       "    .dataframe thead th {\n",
       "        text-align: right;\n",
       "    }\n",
       "</style>\n",
       "<table border=\"1\" class=\"dataframe\">\n",
       "  <thead>\n",
       "    <tr style=\"text-align: right;\">\n",
       "      <th></th>\n",
       "      <th>id_fatura</th>\n",
       "      <th>filial</th>\n",
       "      <th>cidade</th>\n",
       "      <th>tipo_cliente</th>\n",
       "      <th>genero</th>\n",
       "      <th>linha_produto</th>\n",
       "      <th>preco_unitario</th>\n",
       "      <th>qtde</th>\n",
       "      <th>imposto</th>\n",
       "      <th>total_preco</th>\n",
       "      <th>moeda</th>\n",
       "      <th>custo</th>\n",
       "      <th>margem_bruta</th>\n",
       "      <th>receita_bruta</th>\n",
       "      <th>experiencia_cliente</th>\n",
       "      <th>data_hora</th>\n",
       "      <th>dia_semana</th>\n",
       "      <th>feriado</th>\n",
       "      <th>hora</th>\n",
       "      <th>filial_nro</th>\n",
       "      <th>tipo_cliente_nro</th>\n",
       "      <th>genero_nro</th>\n",
       "      <th>linha_produto_nro</th>\n",
       "      <th>moeda_nro</th>\n",
       "    </tr>\n",
       "  </thead>\n",
       "  <tbody>\n",
       "    <tr>\n",
       "      <th>0</th>\n",
       "      <td>765-26-6951</td>\n",
       "      <td>A</td>\n",
       "      <td>Yangon</td>\n",
       "      <td>Normal</td>\n",
       "      <td>Male</td>\n",
       "      <td>Sports and travel</td>\n",
       "      <td>72.61</td>\n",
       "      <td>6</td>\n",
       "      <td>21.783</td>\n",
       "      <td>457.443</td>\n",
       "      <td>Credit card</td>\n",
       "      <td>435.66</td>\n",
       "      <td>4.761905</td>\n",
       "      <td>21.783</td>\n",
       "      <td>6.9</td>\n",
       "      <td>2019-01-01 10:39:00</td>\n",
       "      <td>1</td>\n",
       "      <td>0</td>\n",
       "      <td>10</td>\n",
       "      <td>0</td>\n",
       "      <td>1</td>\n",
       "      <td>1</td>\n",
       "      <td>5</td>\n",
       "      <td>1</td>\n",
       "    </tr>\n",
       "    <tr>\n",
       "      <th>1</th>\n",
       "      <td>746-04-1077</td>\n",
       "      <td>B</td>\n",
       "      <td>Mandalay</td>\n",
       "      <td>Member</td>\n",
       "      <td>Female</td>\n",
       "      <td>Food and beverages</td>\n",
       "      <td>84.63</td>\n",
       "      <td>10</td>\n",
       "      <td>42.315</td>\n",
       "      <td>888.615</td>\n",
       "      <td>Credit card</td>\n",
       "      <td>846.30</td>\n",
       "      <td>4.761905</td>\n",
       "      <td>42.315</td>\n",
       "      <td>9.0</td>\n",
       "      <td>2019-01-01 11:36:00</td>\n",
       "      <td>1</td>\n",
       "      <td>0</td>\n",
       "      <td>11</td>\n",
       "      <td>1</td>\n",
       "      <td>0</td>\n",
       "      <td>0</td>\n",
       "      <td>2</td>\n",
       "      <td>1</td>\n",
       "    </tr>\n",
       "    <tr>\n",
       "      <th>2</th>\n",
       "      <td>271-77-8740</td>\n",
       "      <td>C</td>\n",
       "      <td>Naypyitaw</td>\n",
       "      <td>Member</td>\n",
       "      <td>Female</td>\n",
       "      <td>Sports and travel</td>\n",
       "      <td>29.22</td>\n",
       "      <td>6</td>\n",
       "      <td>8.766</td>\n",
       "      <td>184.086</td>\n",
       "      <td>Ewallet</td>\n",
       "      <td>175.32</td>\n",
       "      <td>4.761905</td>\n",
       "      <td>8.766</td>\n",
       "      <td>5.0</td>\n",
       "      <td>2019-01-01 11:40:00</td>\n",
       "      <td>1</td>\n",
       "      <td>0</td>\n",
       "      <td>11</td>\n",
       "      <td>2</td>\n",
       "      <td>0</td>\n",
       "      <td>0</td>\n",
       "      <td>5</td>\n",
       "      <td>2</td>\n",
       "    </tr>\n",
       "  </tbody>\n",
       "</table>\n",
       "</div>"
      ],
      "text/plain": [
       "     id_fatura filial     cidade tipo_cliente  genero       linha_produto  \\\n",
       "0  765-26-6951      A     Yangon       Normal    Male   Sports and travel   \n",
       "1  746-04-1077      B   Mandalay       Member  Female  Food and beverages   \n",
       "2  271-77-8740      C  Naypyitaw       Member  Female   Sports and travel   \n",
       "\n",
       "   preco_unitario  qtde  imposto  total_preco        moeda   custo  \\\n",
       "0           72.61     6   21.783      457.443  Credit card  435.66   \n",
       "1           84.63    10   42.315      888.615  Credit card  846.30   \n",
       "2           29.22     6    8.766      184.086      Ewallet  175.32   \n",
       "\n",
       "   margem_bruta  receita_bruta  experiencia_cliente            data_hora  \\\n",
       "0      4.761905         21.783                  6.9  2019-01-01 10:39:00   \n",
       "1      4.761905         42.315                  9.0  2019-01-01 11:36:00   \n",
       "2      4.761905          8.766                  5.0  2019-01-01 11:40:00   \n",
       "\n",
       "   dia_semana  feriado  hora  filial_nro  tipo_cliente_nro  genero_nro  \\\n",
       "0           1        0    10           0                 1           1   \n",
       "1           1        0    11           1                 0           0   \n",
       "2           1        0    11           2                 0           0   \n",
       "\n",
       "   linha_produto_nro  moeda_nro  \n",
       "0                  5          1  \n",
       "1                  2          1  \n",
       "2                  5          2  "
      ]
     },
     "execution_count": 8,
     "metadata": {},
     "output_type": "execute_result"
    }
   ],
   "source": [
    "# verifica os dados\n",
    "# verificando que as colunas categoricas foram mantidas e novas colunas numericas de dados categóricos foram criadas, ok!\n",
    "dfx.head(3)"
   ]
  },
  {
   "cell_type": "code",
   "execution_count": 9,
   "metadata": {},
   "outputs": [],
   "source": [
    "# separa as variáveis: dependente_y x independentes_x\n",
    "# as variáveis independentes (x) são separadas da variável dependente (y) em dataframes diferentes\n",
    "X = dfx[['preco_unitario', 'custo', 'imposto','dia_semana', 'feriado', 'tipo_cliente_nro', \\\n",
    "         'genero_nro', 'linha_produto_nro', 'moeda_nro']]\n",
    "y = dfx[['qtde']]"
   ]
  },
  {
   "cell_type": "code",
   "execution_count": 10,
   "metadata": {},
   "outputs": [],
   "source": [
    "# separa dados de treino e de teste\n",
    "# aplica-se a função train_test_split para separar com IA 20% para o teste e 80 para o treino\n",
    "X_train, X_test, y_train, y_test = train_test_split(X, y, test_size=0.20, train_size=0.80, random_state=42)"
   ]
  },
  {
   "cell_type": "markdown",
   "metadata": {},
   "source": [
    "## Regressão Linear Múltipla"
   ]
  },
  {
   "cell_type": "code",
   "execution_count": 11,
   "metadata": {},
   "outputs": [],
   "source": [
    "# treina e prediz quantidade de venda\n",
    "# aqui treina o modelo LinearRegression com X_train e y_train e faz a predição com X_test\n",
    "rlm_model = LinearRegression().fit(X_train, y_train)\n",
    "y_pred = rlm_model.predict(X_test)"
   ]
  },
  {
   "cell_type": "code",
   "execution_count": 12,
   "metadata": {},
   "outputs": [
    {
     "name": "stdout",
     "output_type": "stream",
     "text": [
      "coeficiente de determinação (score) 0.8206775217779811\n",
      "coeficiente de determinação r2_score 0.7956640790235381\n",
      "erro médio absoluto 0.9410966063895282\n",
      "erro quadrático médio 1.6713401236368481\n"
     ]
    }
   ],
   "source": [
    "# Avalia o modelo\n",
    "# na avaliação do modelo vemos que os 2 scores estão satisfatórios acima de 70% (o máximo é 1 ou 100%)\n",
    "# na avaliação dos erros médio e quadrático temos valores altos, o que não é bom, o ideal é que o erro seja pequeno\n",
    "# o erro é a diferença entre os dados esperados encontrado no teste e os dados previstos encontrados na predição\n",
    "# o erro quadrático é o desvio padrão da diferença entre os dados\n",
    "print('coeficiente de determinação (score)', rlm_model.score(X_train, y_train))\n",
    "print('coeficiente de determinação r2_score', r2_score(y_test, y_pred))\n",
    "print('erro médio absoluto', mean_absolute_error(y_test, y_pred))\n",
    "print('erro quadrático médio', mean_squared_error(y_test,y_pred))"
   ]
  },
  {
   "cell_type": "markdown",
   "metadata": {},
   "source": [
    "## Árvore de Regressão"
   ]
  },
  {
   "cell_type": "code",
   "execution_count": 13,
   "metadata": {},
   "outputs": [],
   "source": [
    "# Cria o regressor da árvore de decisão usando tree.DeciisionTreeRegressor (outro modelo do scikit learn)\n",
    "regTree = tree.DecisionTreeRegressor(random_state=2)"
   ]
  },
  {
   "cell_type": "code",
   "execution_count": 14,
   "metadata": {},
   "outputs": [],
   "source": [
    "# Faz o fit, treina o modelo\n",
    "# aqui treina o modelo com os dados de treino X_train e com os dados de teste y_train\n",
    "Dtree_model = regTree.fit(X_train, y_train)"
   ]
  },
  {
   "cell_type": "code",
   "execution_count": 15,
   "metadata": {},
   "outputs": [
    {
     "name": "stdout",
     "output_type": "stream",
     "text": [
      "coeficiente de determinação (score) 0.9743256666921373\n",
      "coeficiente de determinação r2_score 0.9743256666921373\n",
      "erro médio absoluto 0.2\n",
      "erro médio quadrático 0.21\n"
     ]
    }
   ],
   "source": [
    "# Faz um predict(predição) e avalia o modelo\n",
    "# Na avaliação do modelo utilizando os dados de teste e os dados da predição vemos que os scores ficaram satisfatoriamente\n",
    "# altos, próximo a 1 ou 100% e os erros absoluto e quadrático ficaram bem próximo de zero o que é excelente\n",
    "y_predTree = Dtree_model.predict(X_test)\n",
    "\n",
    "print('coeficiente de determinação (score)', Dtree_model.score(X_test, y_test))\n",
    "print('coeficiente de determinação r2_score', r2_score(y_test, y_predTree))\n",
    "print('erro médio absoluto', mean_absolute_error(y_test, y_predTree))\n",
    "print('erro médio quadrático', mean_squared_error(y_test,y_predTree)) "
   ]
  },
  {
   "cell_type": "markdown",
   "metadata": {},
   "source": [
    "## SVR"
   ]
  },
  {
   "cell_type": "code",
   "execution_count": 16,
   "metadata": {},
   "outputs": [],
   "source": [
    "# Cria o regressor do modelo SVM(Support Vector Machine) SVR (Support Vector Regression)\n",
    "regSVR = svm.SVR()"
   ]
  },
  {
   "cell_type": "code",
   "execution_count": 17,
   "metadata": {},
   "outputs": [],
   "source": [
    "# Faz o fit, treina o modelo\n",
    "# o modelo é treinado com os dados de treino (X_train e y_train)\n",
    "SVR_model = regSVR.fit(X_train, y_train)"
   ]
  },
  {
   "cell_type": "code",
   "execution_count": 18,
   "metadata": {},
   "outputs": [
    {
     "name": "stdout",
     "output_type": "stream",
     "text": [
      "coeficiente de determinação (score) 0.8328129940695734\n",
      "coeficiente de determinação r2_score 0.8328129940695734\n",
      "erro médio absoluto 0.7560663235305425\n",
      "erro médio quadrático 1.367485216632183\n"
     ]
    }
   ],
   "source": [
    "# Faz a predição dos valores e avalia o modelo\n",
    "# os scores estão satisfatórios acima de 80% (o máximo é 1 ou 100%)\n",
    "# na avaliação dos erros médio e quadrático temos valores altos, o que não é bom, o ideal é que o erro seja pequeno\n",
    "y_predSVR = SVR_model.predict(X_test)\n",
    "\n",
    "print('coeficiente de determinação (score)', regSVR.score(X_test, y_test))\n",
    "print('coeficiente de determinação r2_score', r2_score(y_test, y_predSVR, multioutput='variance_weighted'))\n",
    "print('erro médio absoluto', mean_absolute_error(y_test, y_predSVR))\n",
    "print('erro médio quadrático', mean_squared_error(y_test,y_predSVR))"
   ]
  },
  {
   "cell_type": "markdown",
   "metadata": {},
   "source": [
    "## Visualiza as Informações"
   ]
  },
  {
   "cell_type": "code",
   "execution_count": 19,
   "metadata": {},
   "outputs": [
    {
     "data": {
      "image/png": "[encoded data removed]",
      "text/plain": [
       "<Figure size 1200x400 with 3 Axes>"
      ]
     },
     "metadata": {},
     "output_type": "display_data"
    }
   ],
   "source": [
    "# Plota gráficos de regressão linear dos testes\n",
    "# aqui é feito uma avaliação na dispersão dos dados de previstos com os dados de teste fazendo uma regressão linear\n",
    "# observamos que o gráfico que ficou com uma melhor distribuição com a menor dispersão foi do modelo de árvore de deicsão\n",
    "# isso confirma os resultados dos scores e do erro médio absoluto e erro médio quadrático analisados anteriormente\n",
    "# então o melhor modelo avaliado foi o de árvore de regressão, sendo assim esse modelo será o adotado para ser usado\n",
    "# nas novas predições que serão utilizadas oficialmente na avaliação de vendas de mercadorias\n",
    "import numpy as np\n",
    "fig,ax = plt.subplots(ncols=3,figsize=(12,4))\n",
    "\n",
    "x = np.arange(0,12)\n",
    "y = x\n",
    "ax[0].scatter(y_test,y_pred)\n",
    "ax[0].plot(x,y,'r')\n",
    "ax[0].set_title('Regressão Linear')\n",
    "\n",
    "ax[1].scatter(y_test,y_predSVR)\n",
    "ax[1].plot(x,y,'r')\n",
    "ax[1].set_title('SVR')\n",
    "\n",
    "ax[2].scatter(y_test,y_predTree)\n",
    "ax[2].plot(x,y,'r')\n",
    "ax[2].set_title('Árvore de Decisão')\n",
    "\n",
    "plt.show()"
   ]
  },
  {
   "cell_type": "markdown",
   "metadata": {},
   "source": []
  },
  {
   "cell_type": "code",
   "execution_count": 20,
   "metadata": {},
   "outputs": [
    {
     "data": {
      "text/plain": [
       "['modelos/dtree_model_vendasSupermarket.pkl']"
      ]
     },
     "execution_count": 20,
     "metadata": {},
     "output_type": "execute_result"
    }
   ],
   "source": [
    "# salva o modelo de árvore de decisão (faz o deploy)\n",
    "# o modelo treinado e aprovado, agora é salvo em um arquivo pkl para ser utilizado em futuras aplicações\n",
    "joblib.dump(Dtree_model, \"modelos/dtree_model_vendasSupermarket.pkl\")"
   ]
  },
  {
   "cell_type": "markdown",
   "metadata": {},
   "source": [
    "## Upload de arquivos no repositório da nuvem aws"
   ]
  },
  {
   "cell_type": "code",
   "execution_count": 21,
   "metadata": {},
   "outputs": [],
   "source": [
    "# Upload de arquivo no repositório da nuvem aws\n",
    "# o modelo gerado(deploy) e salvo em pasta anteriormente agora será carregado para um buket na nuvem da aws\n",
    "# podendo ser capturado por qualquer aplicação que tiver acesso ao bucket\n",
    "arq_modelos = 'dtree_model_vendasSupermarket.pkl'\n",
    "\n",
    "retorno = 'ok'\n",
    "''' **************** comentado para que o kernel não trave se não existir um bucket s3 criado\n",
    "retorno = ups3.upload_s3(\n",
    "            dir_S3_modelos, \n",
    "            arq_modelos, \n",
    "            dir_modelos + barra + arq_modelos, \n",
    "            access_key, secret_key, regiao)\n",
    "'''\n",
    "\n",
    "if retorno != 'ok':\n",
    "    print(retorno)\n",
    "    print('bucket s3 => ' + dir_S3_modelos + ' arquivo => ' + arq_modelos + \n",
    "            ' ***** não foi carregado')\n",
    "    exit()"
   ]
  }
 ],
 "metadata": {
  "kernelspec": {
   "display_name": "Python 3",
   "language": "python",
   "name": "python3"
  },
  "language_info": {
   "codemirror_mode": {
    "name": "ipython",
    "version": 3
   },
   "file_extension": ".py",
   "mimetype": "text/x-python",
   "name": "python",
   "nbconvert_exporter": "python",
   "pygments_lexer": "ipython3",
   "version": "3.11.5"
  },
  "orig_nbformat": 4
 },
 "nbformat": 4,
 "nbformat_minor": 2
}
